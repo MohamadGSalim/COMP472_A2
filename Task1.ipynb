{
 "cells": [
  {
   "cell_type": "code",
   "execution_count": 1,
   "metadata": {},
   "outputs": [
    {
     "name": "stdout",
     "output_type": "stream",
     "text": [
      "[==================================================] 100.0% 1662.8/1662.8MB downloaded\n"
     ]
    }
   ],
   "source": [
    "import gensim.downloader as api\n",
    "w2v_model = api.load('word2vec-google-news-300')"
   ]
  },
  {
   "cell_type": "code",
   "execution_count": null,
   "metadata": {},
   "outputs": [],
   "source": [
    "from gensim.similarities import Similarity"
   ]
  },
  {
   "cell_type": "code",
   "execution_count": 2,
   "metadata": {},
   "outputs": [],
   "source": [
    "import numpy as np\n",
    "import pandas as pd\n",
    "import re"
   ]
  },
  {
   "cell_type": "code",
   "execution_count": 14,
   "metadata": {},
   "outputs": [
    {
     "name": "stdout",
     "output_type": "stream",
     "text": [
      "      question        answer              0               1              2  \\\n",
      "0   enormously  tremendously  appropriately        uniquely   tremendously   \n",
      "1   provisions  stipulations   stipulations  interrelations  jurisdictions   \n",
      "2  haphazardly      randomly    dangerously         densely       randomly   \n",
      "3    prominent   conspicuous       battered         ancient     mysterious   \n",
      "4       zenith      pinnacle     completion        pinnacle         outset   \n",
      "\n",
      "                 3  \n",
      "0        decidedly  \n",
      "1  interpretations  \n",
      "2         linearly  \n",
      "3      conspicuous  \n",
      "4          decline  \n",
      "<class 'pandas.core.frame.DataFrame'>\n",
      "RangeIndex: 80 entries, 0 to 79\n",
      "Data columns (total 6 columns):\n",
      " #   Column    Non-Null Count  Dtype \n",
      "---  ------    --------------  ----- \n",
      " 0   question  80 non-null     object\n",
      " 1   answer    80 non-null     object\n",
      " 2   0         80 non-null     object\n",
      " 3   1         80 non-null     object\n",
      " 4   2         80 non-null     object\n",
      " 5   3         80 non-null     object\n",
      "dtypes: object(6)\n",
      "memory usage: 3.9+ KB\n",
      "None\n"
     ]
    }
   ],
   "source": [
    "# Load the dataset\n",
    "synonym_test_dataset = pd.read_csv('A2-DataSet/synonym.csv')\n",
    "\n",
    "print(synonym_test_dataset.head())\n",
    "print(synonym_test_dataset.info())"
   ]
  },
  {
   "cell_type": "code",
   "execution_count": 27,
   "metadata": {},
   "outputs": [
    {
     "name": "stdout",
     "output_type": "stream",
     "text": [
      "dog\n"
     ]
    }
   ],
   "source": [
    "def closest_synonym(query, list_of_guess_words):\n",
    "    \n",
    "    closest_synonym = None\n",
    "    \n",
    "    # iterate through the list of guess words and find the guess word with the highest similarity score\n",
    "    for guess_word in list_of_guess_words:\n",
    "        sim_score = w2v_model.similarity(query, guess_word)\n",
    "        \n",
    "        if closest_synonym is None:\n",
    "            closest_synonym = (guess_word, sim_score)\n",
    "        elif sim_score > closest_synonym[1]:\n",
    "            closest_synonym = (guess_word, sim_score)\n",
    "    \n",
    "    return closest_synonym[0]\n",
    "\n",
    "# print(closest_synonym('cat', ['dog', 'mouse', 'house', 'tree']))"
   ]
  },
  {
   "cell_type": "code",
   "execution_count": null,
   "metadata": {},
   "outputs": [],
   "source": [
    "\n",
    "\n",
    "\n",
    "\n",
    "\n",
    "import pandas as pd\n",
    "synonym_dataset = pd.read_csv(\"synonym.csv\")\n",
    "\n",
    "\n"
   ]
  }
 ],
 "metadata": {
  "kernelspec": {
   "display_name": "Python 3",
   "language": "python",
   "name": "python3"
  },
  "language_info": {
   "codemirror_mode": {
    "name": "ipython",
    "version": 3
   },
   "file_extension": ".py",
   "mimetype": "text/x-python",
   "name": "python",
   "nbconvert_exporter": "python",
   "pygments_lexer": "ipython3",
   "version": "3.11.5"
  }
 },
 "nbformat": 4,
 "nbformat_minor": 2
}
