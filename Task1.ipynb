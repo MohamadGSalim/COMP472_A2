{
 "cells": [
  {
   "cell_type": "code",
   "execution_count": 1,
   "metadata": {},
   "outputs": [
    {
     "name": "stdout",
     "output_type": "stream",
     "text": [
      "[==================================================] 100.0% 1662.8/1662.8MB downloaded\n"
     ]
    }
   ],
   "source": [
    "import gensim.downloader as api\n",
    "w2v_model = api.load('word2vec-google-news-300')"
   ]
  },
  {
   "cell_type": "code",
   "execution_count": null,
   "metadata": {},
   "outputs": [],
   "source": [
    "from gensim.similarities import Similarity"
   ]
  },
  {
   "cell_type": "code",
   "execution_count": 2,
   "metadata": {},
   "outputs": [],
   "source": [
    "import numpy as np\n",
    "import pandas as pd\n",
    "import re"
   ]
  },
  {
   "cell_type": "code",
   "execution_count": 14,
   "metadata": {},
   "outputs": [
    {
     "name": "stdout",
     "output_type": "stream",
     "text": [
      "      question        answer              0               1              2  \\\n",
      "0   enormously  tremendously  appropriately        uniquely   tremendously   \n",
      "1   provisions  stipulations   stipulations  interrelations  jurisdictions   \n",
      "2  haphazardly      randomly    dangerously         densely       randomly   \n",
      "3    prominent   conspicuous       battered         ancient     mysterious   \n",
      "4       zenith      pinnacle     completion        pinnacle         outset   \n",
      "\n",
      "                 3  \n",
      "0        decidedly  \n",
      "1  interpretations  \n",
      "2         linearly  \n",
      "3      conspicuous  \n",
      "4          decline  \n",
      "<class 'pandas.core.frame.DataFrame'>\n",
      "RangeIndex: 80 entries, 0 to 79\n",
      "Data columns (total 6 columns):\n",
      " #   Column    Non-Null Count  Dtype \n",
      "---  ------    --------------  ----- \n",
      " 0   question  80 non-null     object\n",
      " 1   answer    80 non-null     object\n",
      " 2   0         80 non-null     object\n",
      " 3   1         80 non-null     object\n",
      " 4   2         80 non-null     object\n",
      " 5   3         80 non-null     object\n",
      "dtypes: object(6)\n",
      "memory usage: 3.9+ KB\n",
      "None\n"
     ]
    }
   ],
   "source": [
    "# Load the dataset\n",
    "synonym_test_dataset = pd.read_csv('A2-DataSet/synonym.csv')\n",
    "\n",
    "print(synonym_test_dataset.head())\n",
    "print(synonym_test_dataset.info())"
   ]
  },
  {
   "cell_type": "code",
   "execution_count": 29,
   "metadata": {},
   "outputs": [],
   "source": [
    "def closest_synonym(query, list_of_guess_words):\n",
    "    \n",
    "    closest_synonym = None\n",
    "    \n",
    "    # iterate through the list of guess words and find the guess word with the highest similarity score\n",
    "    for guess_word in list_of_guess_words:\n",
    "        sim_score = w2v_model.similarity(query, guess_word)\n",
    "        \n",
    "        if closest_synonym is None:\n",
    "            closest_synonym = (guess_word, sim_score)\n",
    "        elif sim_score > closest_synonym[1]:\n",
    "            closest_synonym = (guess_word, sim_score)\n",
    "    \n",
    "    return closest_synonym[0]\n",
    "\n",
    "# print(closest_synonym('cat', ['dog', 'mouse', 'house', 'tree']))"
   ]
  },
  {
   "cell_type": "code",
   "execution_count": 28,
   "metadata": {},
   "outputs": [],
   "source": [
    "def assign_label(question_word, correct_answer, closest_synonym, guess_words):\n",
    "    # Check if question word and at least one guess word are in the vocabulary\n",
    "    if question_word in w2v_model.vocab and any(word in w2v_model.vocab for word in guess_words):\n",
    "        # Check if the closest guess is correct\n",
    "        if closest_synonym is not None and closest_synonym == correct_answer:\n",
    "            return \"correct\"\n",
    "        else:\n",
    "            return \"wrong\"\n",
    "    else:\n",
    "        return \"guess\""
   ]
  },
  {
   "cell_type": "code",
   "execution_count": 35,
   "metadata": {},
   "outputs": [
    {
     "name": "stderr",
     "output_type": "stream",
     "text": [
      "/var/folders/2m/tvft4g1n2t7bhn7xdc4t2l2m0000gn/T/ipykernel_97171/3421812679.py:16: FutureWarning: Series.__getitem__ treating keys as positions is deprecated. In a future version, integer keys will always be treated as labels (consistent with DataFrame behavior). To access a value by position, use `ser.iloc[pos]`\n",
      "  words = row[0]\n"
     ]
    },
    {
     "name": "stdout",
     "output_type": "stream",
     "text": [
      "enormously\n"
     ]
    },
    {
     "ename": "AttributeError",
     "evalue": "The vocab attribute was removed from KeyedVector in Gensim 4.0.0.\nUse KeyedVector's .key_to_index dict, .index_to_key list, and methods .get_vecattr(key, attr) and .set_vecattr(key, attr, new_val) instead.\nSee https://github.com/RaRe-Technologies/gensim/wiki/Migrating-from-Gensim-3.x-to-4",
     "output_type": "error",
     "traceback": [
      "\u001b[0;31m---------------------------------------------------------------------------\u001b[0m",
      "\u001b[0;31mAttributeError\u001b[0m                            Traceback (most recent call last)",
      "\u001b[1;32m/Users/victoriacastelli/COMP472_A2/Task1.ipynb Cell 7\u001b[0m line \u001b[0;36m3\n\u001b[1;32m     <a href='vscode-notebook-cell:/Users/victoriacastelli/COMP472_A2/Task1.ipynb#W6sZmlsZQ%3D%3D?line=35'>36</a>\u001b[0m     \u001b[39mreturn\u001b[39;00m results_df\n\u001b[1;32m     <a href='vscode-notebook-cell:/Users/victoriacastelli/COMP472_A2/Task1.ipynb#W6sZmlsZQ%3D%3D?line=37'>38</a>\u001b[0m file_path \u001b[39m=\u001b[39m \u001b[39m'\u001b[39m\u001b[39mA2-DataSet/synonym.csv\u001b[39m\u001b[39m'\u001b[39m \n\u001b[0;32m---> <a href='vscode-notebook-cell:/Users/victoriacastelli/COMP472_A2/Task1.ipynb#W6sZmlsZQ%3D%3D?line=38'>39</a>\u001b[0m processed_results \u001b[39m=\u001b[39m process_csv(file_path)\n\u001b[1;32m     <a href='vscode-notebook-cell:/Users/victoriacastelli/COMP472_A2/Task1.ipynb#W6sZmlsZQ%3D%3D?line=39'>40</a>\u001b[0m processed_results\n",
      "\u001b[1;32m/Users/victoriacastelli/COMP472_A2/Task1.ipynb Cell 7\u001b[0m line \u001b[0;36m3\n\u001b[1;32m     <a href='vscode-notebook-cell:/Users/victoriacastelli/COMP472_A2/Task1.ipynb#W6sZmlsZQ%3D%3D?line=27'>28</a>\u001b[0m     answer_words\u001b[39m.\u001b[39mappend(answer)\n\u001b[1;32m     <a href='vscode-notebook-cell:/Users/victoriacastelli/COMP472_A2/Task1.ipynb#W6sZmlsZQ%3D%3D?line=28'>29</a>\u001b[0m     guess_words\u001b[39m.\u001b[39mappend(result)\n\u001b[0;32m---> <a href='vscode-notebook-cell:/Users/victoriacastelli/COMP472_A2/Task1.ipynb#W6sZmlsZQ%3D%3D?line=29'>30</a>\u001b[0m     labels\u001b[39m.\u001b[39mappend(assign_label(query, answer, result, list_of_guess_words))\n\u001b[1;32m     <a href='vscode-notebook-cell:/Users/victoriacastelli/COMP472_A2/Task1.ipynb#W6sZmlsZQ%3D%3D?line=32'>33</a>\u001b[0m results_df \u001b[39m=\u001b[39m pd\u001b[39m.\u001b[39mDataFrame({\u001b[39m'\u001b[39m\u001b[39mquestion_word\u001b[39m\u001b[39m'\u001b[39m: question_words, \u001b[39m'\u001b[39m\u001b[39manswer_word\u001b[39m\u001b[39m'\u001b[39m: answer_words, \u001b[39m'\u001b[39m\u001b[39mguess_word\u001b[39m\u001b[39m'\u001b[39m: guess_words, \u001b[39m'\u001b[39m\u001b[39mlabel\u001b[39m\u001b[39m'\u001b[39m: labels})    \n\u001b[1;32m     <a href='vscode-notebook-cell:/Users/victoriacastelli/COMP472_A2/Task1.ipynb#W6sZmlsZQ%3D%3D?line=33'>34</a>\u001b[0m results_df\u001b[39m.\u001b[39mto_csv(\u001b[39m'\u001b[39m\u001b[39mword2vec-google-news-300-details.csv\u001b[39m\u001b[39m'\u001b[39m, index\u001b[39m=\u001b[39m\u001b[39mFalse\u001b[39;00m)\n",
      "\u001b[1;32m/Users/victoriacastelli/COMP472_A2/Task1.ipynb Cell 7\u001b[0m line \u001b[0;36m3\n\u001b[1;32m      <a href='vscode-notebook-cell:/Users/victoriacastelli/COMP472_A2/Task1.ipynb#W6sZmlsZQ%3D%3D?line=0'>1</a>\u001b[0m \u001b[39mdef\u001b[39;00m \u001b[39massign_label\u001b[39m(question_word, correct_answer, closest_synonym, guess_words):\n\u001b[1;32m      <a href='vscode-notebook-cell:/Users/victoriacastelli/COMP472_A2/Task1.ipynb#W6sZmlsZQ%3D%3D?line=1'>2</a>\u001b[0m     \u001b[39m# Check if question word and at least one guess word are in the vocabulary\u001b[39;00m\n\u001b[0;32m----> <a href='vscode-notebook-cell:/Users/victoriacastelli/COMP472_A2/Task1.ipynb#W6sZmlsZQ%3D%3D?line=2'>3</a>\u001b[0m     \u001b[39mif\u001b[39;00m question_word \u001b[39min\u001b[39;00m w2v_model\u001b[39m.\u001b[39;49mvocab \u001b[39mand\u001b[39;00m \u001b[39many\u001b[39m(word \u001b[39min\u001b[39;00m w2v_model\u001b[39m.\u001b[39mvocab \u001b[39mfor\u001b[39;00m word \u001b[39min\u001b[39;00m guess_words):\n\u001b[1;32m      <a href='vscode-notebook-cell:/Users/victoriacastelli/COMP472_A2/Task1.ipynb#W6sZmlsZQ%3D%3D?line=3'>4</a>\u001b[0m         \u001b[39m# Check if the closest guess is correct\u001b[39;00m\n\u001b[1;32m      <a href='vscode-notebook-cell:/Users/victoriacastelli/COMP472_A2/Task1.ipynb#W6sZmlsZQ%3D%3D?line=4'>5</a>\u001b[0m         \u001b[39mif\u001b[39;00m closest_synonym \u001b[39mis\u001b[39;00m \u001b[39mnot\u001b[39;00m \u001b[39mNone\u001b[39;00m \u001b[39mand\u001b[39;00m closest_synonym \u001b[39m==\u001b[39m correct_answer:\n\u001b[1;32m      <a href='vscode-notebook-cell:/Users/victoriacastelli/COMP472_A2/Task1.ipynb#W6sZmlsZQ%3D%3D?line=5'>6</a>\u001b[0m             \u001b[39mreturn\u001b[39;00m \u001b[39m\"\u001b[39m\u001b[39mcorrect\u001b[39m\u001b[39m\"\u001b[39m\n",
      "File \u001b[0;32m/Library/Frameworks/Python.framework/Versions/3.11/lib/python3.11/site-packages/gensim/models/keyedvectors.py:734\u001b[0m, in \u001b[0;36mKeyedVectors.vocab\u001b[0;34m(self)\u001b[0m\n\u001b[1;32m    732\u001b[0m \u001b[39m@property\u001b[39m\n\u001b[1;32m    733\u001b[0m \u001b[39mdef\u001b[39;00m \u001b[39mvocab\u001b[39m(\u001b[39mself\u001b[39m):\n\u001b[0;32m--> 734\u001b[0m     \u001b[39mraise\u001b[39;00m \u001b[39mAttributeError\u001b[39;00m(\n\u001b[1;32m    735\u001b[0m         \u001b[39m\"\u001b[39m\u001b[39mThe vocab attribute was removed from KeyedVector in Gensim 4.0.0.\u001b[39m\u001b[39m\\n\u001b[39;00m\u001b[39m\"\u001b[39m\n\u001b[1;32m    736\u001b[0m         \u001b[39m\"\u001b[39m\u001b[39mUse KeyedVector\u001b[39m\u001b[39m'\u001b[39m\u001b[39ms .key_to_index dict, .index_to_key list, and methods \u001b[39m\u001b[39m\"\u001b[39m\n\u001b[1;32m    737\u001b[0m         \u001b[39m\"\u001b[39m\u001b[39m.get_vecattr(key, attr) and .set_vecattr(key, attr, new_val) instead.\u001b[39m\u001b[39m\\n\u001b[39;00m\u001b[39m\"\u001b[39m\n\u001b[1;32m    738\u001b[0m         \u001b[39m\"\u001b[39m\u001b[39mSee https://github.com/RaRe-Technologies/gensim/wiki/Migrating-from-Gensim-3.x-to-4\u001b[39m\u001b[39m\"\u001b[39m\n\u001b[1;32m    739\u001b[0m     )\n",
      "\u001b[0;31mAttributeError\u001b[0m: The vocab attribute was removed from KeyedVector in Gensim 4.0.0.\nUse KeyedVector's .key_to_index dict, .index_to_key list, and methods .get_vecattr(key, attr) and .set_vecattr(key, attr, new_val) instead.\nSee https://github.com/RaRe-Technologies/gensim/wiki/Migrating-from-Gensim-3.x-to-4"
     ]
    }
   ],
   "source": [
    "# Function to process the CSV file and apply the closest_synonym function\n",
    "def process_csv(file_path):\n",
    "    \n",
    "    question_words = []\n",
    "    answer_words = []\n",
    "    guess_words = []\n",
    "    labels = []\n",
    "    \n",
    "    \n",
    "    # Read the CSV file into a Pandas DataFrame, skipping the first row\n",
    "    synonym_test_dataset = pd.read_csv(file_path)\n",
    "\n",
    "    # Process each row in the DataFrame\n",
    "    for index, row in synonym_test_dataset.iterrows():\n",
    "        # Split the row into words based on comma\n",
    "        words = row[0]\n",
    "        print(words)\n",
    "\n",
    "        # Store the first word in 'query' and the rest in 'list_of_guess_words'\n",
    "        query = words[0]\n",
    "        answer = words[1]\n",
    "        list_of_guess_words = words[2:]\n",
    "\n",
    "        # Call the 'closest_synonym' function and store the result\n",
    "        result = closest_synonym(query, list_of_guess_words)\n",
    "        \n",
    "        question_words.append(query)\n",
    "        answer_words.append(answer)\n",
    "        guess_words.append(result)\n",
    "        labels.append(assign_label(query, answer, result, list_of_guess_words))\n",
    "    \n",
    "    \n",
    "    results_df = pd.DataFrame({'question_word': question_words, 'answer_word': answer_words, 'guess_word': guess_words, 'label': labels})    \n",
    "    results_df.to_csv('word2vec-google-news-300-details.csv', index=False)\n",
    "    \n",
    "    return results_df\n",
    "\n",
    "file_path = 'A2-DataSet/synonym.csv' \n",
    "processed_results = process_csv(file_path)\n",
    "processed_results"
   ]
  }
 ],
 "metadata": {
  "kernelspec": {
   "display_name": "Python 3",
   "language": "python",
   "name": "python3"
  },
  "language_info": {
   "codemirror_mode": {
    "name": "ipython",
    "version": 3
   },
   "file_extension": ".py",
   "mimetype": "text/x-python",
   "name": "python",
   "nbconvert_exporter": "python",
   "pygments_lexer": "ipython3",
   "version": "3.11.5"
  }
 },
 "nbformat": 4,
 "nbformat_minor": 2
}
